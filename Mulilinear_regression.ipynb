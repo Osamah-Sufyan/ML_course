{
 "cells": [
  {
   "cell_type": "markdown",
   "id": "db93e376-9f6b-41fc-a893-c824ae48be68",
   "metadata": {},
   "source": [
    "# Multilinear regression"
   ]
  },
  {
   "cell_type": "markdown",
   "id": "51fe1093-343e-406f-bffd-8b3d082b9d66",
   "metadata": {},
   "source": [
    "Multilinear regression generalizes simple linear regression:"
   ]
  },
  {
   "cell_type": "markdown",
   "id": "0b59effa-3272-4df5-a862-1328a3f4ae25",
   "metadata": {},
   "source": [
    "$$\n",
    "y_i = \\beta_0 + \\beta_1x_i\n",
    "$$\n",
    "\n",
    "to include more fitting variables when modelling $y_i' = \\{y_1',y_2', ...,y_n'\\}$"
   ]
  },
  {
   "cell_type": "markdown",
   "id": "691ab5d1-f702-4438-8014-b884eb4cb101",
   "metadata": {},
   "source": [
    "$$\n",
    "y_i =\\beta_0 + \\beta_1 x_{i1} + \\beta_2 x_{i2}\n",
    "$$"
   ]
  },
  {
   "cell_type": "markdown",
   "id": "711cd4be-82cd-4ce5-834a-bea080e201d4",
   "metadata": {},
   "source": [
    "Or more generally using n independent variables:\n",
    "\n",
    "$$\n",
    "y_i =\\beta_0 + \\beta_1 x_{i1} + \\beta_2 x_{i2} +....+\\beta_p x_{ip}\n",
    "$$"
   ]
  },
  {
   "cell_type": "markdown",
   "id": "8231d332-1b10-4db1-b206-b7d695bd3c07",
   "metadata": {},
   "source": [
    "For simplicity let us takes two variables:"
   ]
  },
  {
   "cell_type": "markdown",
   "id": "11bc9889-aea8-406a-998f-533db567a27b",
   "metadata": {},
   "source": [
    "$$\n",
    "y_i =\\beta_0 + \\beta_1 x_{i1} + \\beta_2 x_{i2}\n",
    "$$"
   ]
  },
  {
   "cell_type": "markdown",
   "id": "719d8091-29b4-4873-af5f-1fb4788f0f7f",
   "metadata": {},
   "source": [
    "This can be written in the compact form:"
   ]
  },
  {
   "cell_type": "markdown",
   "id": "55efeb0e-7c71-4082-b0c8-d2a31f0ceb34",
   "metadata": {},
   "source": [
    "$$\n",
    "\\begin{bmatrix} \n",
    "y_1 \\\\ \n",
    "y_2 \\\\ \n",
    "\\vdots \\\\ \n",
    "y_n \n",
    "\\end{bmatrix} \n",
    "=\n",
    "\\begin{bmatrix} \n",
    "1&x_{11} & x_{12}  \\\\ \n",
    "1&x_{21} & x_{22}  \\\\ \n",
    "\\vdots & \\vdots &  \\vdots \\\\ \n",
    "1&x_{n1} & x_{n2}  \n",
    "\\end{bmatrix} \n",
    "\\begin{bmatrix} \n",
    "\\beta_0 \\\\ \n",
    "\\beta_1 \\\\ \n",
    "\\beta_2 \n",
    "\\end{bmatrix} \n",
    "$$"
   ]
  },
  {
   "cell_type": "markdown",
   "id": "e9f79b68-bd5d-445a-a9a2-b3d5c4dacaf7",
   "metadata": {},
   "source": [
    "or :"
   ]
  },
  {
   "cell_type": "markdown",
   "id": "7e57868b-8f7e-4dfb-a675-96b2fda89325",
   "metadata": {},
   "source": [
    "$$\n",
    "Y = X\\mathbf{\\beta}\n",
    "$$"
   ]
  },
  {
   "cell_type": "markdown",
   "id": "a5a2c005-76ef-4678-8735-d7824b41e1d4",
   "metadata": {},
   "source": [
    "with:"
   ]
  },
  {
   "cell_type": "markdown",
   "id": "ee81355d-de3a-4943-8c5d-ba454bc301c8",
   "metadata": {},
   "source": [
    "$$\n",
    "Y= \\begin{bmatrix} \n",
    "y_1 \\\\ \n",
    "y_2 \\\\ \n",
    "\\vdots \\\\ \n",
    "y_n \n",
    "\\end{bmatrix}\n",
    "$$\n",
    "\n",
    "\n"
   ]
  },
  {
   "cell_type": "markdown",
   "id": "6a182e6d-4161-4f5e-8ac5-0343de35fcfd",
   "metadata": {},
   "source": [
    "$$\n",
    "X= \\begin{bmatrix} \n",
    "1&x_{11} & x_{12}  \\\\ \n",
    "1&x_{21} & x_{22}  \\\\ \n",
    "\\vdots & \\vdots &  \\vdots \\\\ \n",
    "1&x_{n1} & x_{n2}  \n",
    "\\end{bmatrix} \n",
    "$$"
   ]
  },
  {
   "cell_type": "markdown",
   "id": "3f97e6c7-99b9-48b2-95a4-ae4dcc3e01a7",
   "metadata": {},
   "source": [
    "$$\n",
    "\\beta =\\begin{bmatrix} \n",
    " \\beta_0 \\\\ \n",
    "\\beta_1 \\\\ \n",
    "\\beta_2 \n",
    "\\end{bmatrix} \n",
    "$$"
   ]
  },
  {
   "cell_type": "markdown",
   "id": "20849211-dfe5-4923-ba43-1280ec5d7018",
   "metadata": {},
   "source": [
    "# Least squares method"
   ]
  },
  {
   "cell_type": "markdown",
   "id": "86217a1a-e080-4cb2-9201-4e16ccd74495",
   "metadata": {},
   "source": [
    "we want to optimize the coefficients $\\beta$ to make the best model for the data $Y'$:\n",
    "\n",
    "$$\n",
    "Y = X\\mathbf{\\beta}\n",
    "$$\n",
    "\n"
   ]
  },
  {
   "cell_type": "markdown",
   "id": "aa4c44d6-3e7c-425d-b016-8e50622786f1",
   "metadata": {},
   "source": [
    "We want to minimze the quantity:\n",
    "\n",
    "$$\n",
    "loss = \\left \\lVert Y'-X\\beta \\right \\lVert^2 = \\sum_{i=1}^n (y_i' -(\\beta_0 + \\beta_1 x_{i1} + \\beta_2 x_{i2}))^2 \n",
    "$$\n",
    "$$\n",
    "loss = (Y'-X\\beta)^T(Y'-X\\beta)\n",
    "$$\n",
    "$$\n",
    "loss = Y'^TY-Y'^TX\\beta-\\beta^TX^TY'+ \\beta^TX^TX\\beta\n",
    "$$\n",
    "$$\n",
    "\\frac{\\partial loss}{\\partial\\beta} = -2X^TY'+2X^TX\\beta\n",
    "$$"
   ]
  },
  {
   "cell_type": "markdown",
   "id": "674a0d7c-c68e-43ce-aefd-ad1e79399b8f",
   "metadata": {},
   "source": [
    "The  optimized weights are then:"
   ]
  },
  {
   "cell_type": "markdown",
   "id": "d36beaec-2c66-4530-aec0-8882ebaf800d",
   "metadata": {},
   "source": [
    "We can write this in the compact form:\n",
    "\n",
    "$$\n",
    "\\beta = (X^TX)^{-1}X^TY'\n",
    "$$"
   ]
  },
  {
   "cell_type": "markdown",
   "id": "35281f4b-f9be-4326-ab69-53be14f40646",
   "metadata": {},
   "source": [
    "# Example: real estate prices prediction"
   ]
  },
  {
   "cell_type": "code",
   "execution_count": 11,
   "id": "6a40d5fc-d9f8-4277-93f1-0f650723b8ae",
   "metadata": {},
   "outputs": [],
   "source": [
    "import pandas as pd\n",
    "df = pd.read_csv('Real estate.csv')\n",
    "del df['X1 transaction date']\n",
    "del df['X5 latitude']\n",
    "del df['X6 longitude']\n"
   ]
  },
  {
   "cell_type": "code",
   "execution_count": 13,
   "id": "97e66a01-83aa-45a1-8a43-d8e5455b669d",
   "metadata": {},
   "outputs": [
    {
     "data": {
      "text/html": [
       "<div>\n",
       "<style scoped>\n",
       "    .dataframe tbody tr th:only-of-type {\n",
       "        vertical-align: middle;\n",
       "    }\n",
       "\n",
       "    .dataframe tbody tr th {\n",
       "        vertical-align: top;\n",
       "    }\n",
       "\n",
       "    .dataframe thead th {\n",
       "        text-align: right;\n",
       "    }\n",
       "</style>\n",
       "<table border=\"1\" class=\"dataframe\">\n",
       "  <thead>\n",
       "    <tr style=\"text-align: right;\">\n",
       "      <th></th>\n",
       "      <th>No</th>\n",
       "      <th>X2 house age</th>\n",
       "      <th>X3 distance to the nearest MRT station</th>\n",
       "      <th>X4 number of convenience stores</th>\n",
       "      <th>Y house price of unit area</th>\n",
       "    </tr>\n",
       "  </thead>\n",
       "  <tbody>\n",
       "    <tr>\n",
       "      <th>0</th>\n",
       "      <td>1</td>\n",
       "      <td>32.0</td>\n",
       "      <td>84.87882</td>\n",
       "      <td>10</td>\n",
       "      <td>37.9</td>\n",
       "    </tr>\n",
       "    <tr>\n",
       "      <th>1</th>\n",
       "      <td>2</td>\n",
       "      <td>19.5</td>\n",
       "      <td>306.59470</td>\n",
       "      <td>9</td>\n",
       "      <td>42.2</td>\n",
       "    </tr>\n",
       "    <tr>\n",
       "      <th>2</th>\n",
       "      <td>3</td>\n",
       "      <td>13.3</td>\n",
       "      <td>561.98450</td>\n",
       "      <td>5</td>\n",
       "      <td>47.3</td>\n",
       "    </tr>\n",
       "    <tr>\n",
       "      <th>3</th>\n",
       "      <td>4</td>\n",
       "      <td>13.3</td>\n",
       "      <td>561.98450</td>\n",
       "      <td>5</td>\n",
       "      <td>54.8</td>\n",
       "    </tr>\n",
       "    <tr>\n",
       "      <th>4</th>\n",
       "      <td>5</td>\n",
       "      <td>5.0</td>\n",
       "      <td>390.56840</td>\n",
       "      <td>5</td>\n",
       "      <td>43.1</td>\n",
       "    </tr>\n",
       "  </tbody>\n",
       "</table>\n",
       "</div>"
      ],
      "text/plain": [
       "   No  X2 house age  X3 distance to the nearest MRT station  \\\n",
       "0   1          32.0                                84.87882   \n",
       "1   2          19.5                               306.59470   \n",
       "2   3          13.3                               561.98450   \n",
       "3   4          13.3                               561.98450   \n",
       "4   5           5.0                               390.56840   \n",
       "\n",
       "   X4 number of convenience stores  Y house price of unit area  \n",
       "0                               10                        37.9  \n",
       "1                                9                        42.2  \n",
       "2                                5                        47.3  \n",
       "3                                5                        54.8  \n",
       "4                                5                        43.1  "
      ]
     },
     "execution_count": 13,
     "metadata": {},
     "output_type": "execute_result"
    }
   ],
   "source": [
    "df.head()"
   ]
  },
  {
   "cell_type": "code",
   "execution_count": 15,
   "id": "8eee6dfb-642a-49e5-b848-7c93692c650e",
   "metadata": {},
   "outputs": [
    {
     "data": {
      "text/html": [
       "<div>\n",
       "<style scoped>\n",
       "    .dataframe tbody tr th:only-of-type {\n",
       "        vertical-align: middle;\n",
       "    }\n",
       "\n",
       "    .dataframe tbody tr th {\n",
       "        vertical-align: top;\n",
       "    }\n",
       "\n",
       "    .dataframe thead th {\n",
       "        text-align: right;\n",
       "    }\n",
       "</style>\n",
       "<table border=\"1\" class=\"dataframe\">\n",
       "  <thead>\n",
       "    <tr style=\"text-align: right;\">\n",
       "      <th></th>\n",
       "      <th>No</th>\n",
       "      <th>X2 house age</th>\n",
       "      <th>X3 distance to the nearest MRT station</th>\n",
       "      <th>X4 number of convenience stores</th>\n",
       "      <th>Y house price of unit area</th>\n",
       "    </tr>\n",
       "  </thead>\n",
       "  <tbody>\n",
       "    <tr>\n",
       "      <th>No</th>\n",
       "      <td>1.000000</td>\n",
       "      <td>-0.032808</td>\n",
       "      <td>-0.013573</td>\n",
       "      <td>-0.012699</td>\n",
       "      <td>-0.028587</td>\n",
       "    </tr>\n",
       "    <tr>\n",
       "      <th>X2 house age</th>\n",
       "      <td>-0.032808</td>\n",
       "      <td>1.000000</td>\n",
       "      <td>0.025622</td>\n",
       "      <td>0.049593</td>\n",
       "      <td>-0.210567</td>\n",
       "    </tr>\n",
       "    <tr>\n",
       "      <th>X3 distance to the nearest MRT station</th>\n",
       "      <td>-0.013573</td>\n",
       "      <td>0.025622</td>\n",
       "      <td>1.000000</td>\n",
       "      <td>-0.602519</td>\n",
       "      <td>-0.673613</td>\n",
       "    </tr>\n",
       "    <tr>\n",
       "      <th>X4 number of convenience stores</th>\n",
       "      <td>-0.012699</td>\n",
       "      <td>0.049593</td>\n",
       "      <td>-0.602519</td>\n",
       "      <td>1.000000</td>\n",
       "      <td>0.571005</td>\n",
       "    </tr>\n",
       "    <tr>\n",
       "      <th>Y house price of unit area</th>\n",
       "      <td>-0.028587</td>\n",
       "      <td>-0.210567</td>\n",
       "      <td>-0.673613</td>\n",
       "      <td>0.571005</td>\n",
       "      <td>1.000000</td>\n",
       "    </tr>\n",
       "  </tbody>\n",
       "</table>\n",
       "</div>"
      ],
      "text/plain": [
       "                                              No  X2 house age  \\\n",
       "No                                      1.000000     -0.032808   \n",
       "X2 house age                           -0.032808      1.000000   \n",
       "X3 distance to the nearest MRT station -0.013573      0.025622   \n",
       "X4 number of convenience stores        -0.012699      0.049593   \n",
       "Y house price of unit area             -0.028587     -0.210567   \n",
       "\n",
       "                                        X3 distance to the nearest MRT station  \\\n",
       "No                                                                   -0.013573   \n",
       "X2 house age                                                          0.025622   \n",
       "X3 distance to the nearest MRT station                                1.000000   \n",
       "X4 number of convenience stores                                      -0.602519   \n",
       "Y house price of unit area                                           -0.673613   \n",
       "\n",
       "                                        X4 number of convenience stores  \\\n",
       "No                                                            -0.012699   \n",
       "X2 house age                                                   0.049593   \n",
       "X3 distance to the nearest MRT station                        -0.602519   \n",
       "X4 number of convenience stores                                1.000000   \n",
       "Y house price of unit area                                     0.571005   \n",
       "\n",
       "                                        Y house price of unit area  \n",
       "No                                                       -0.028587  \n",
       "X2 house age                                             -0.210567  \n",
       "X3 distance to the nearest MRT station                   -0.673613  \n",
       "X4 number of convenience stores                           0.571005  \n",
       "Y house price of unit area                                1.000000  "
      ]
     },
     "execution_count": 15,
     "metadata": {},
     "output_type": "execute_result"
    }
   ],
   "source": [
    "# correlation function \n",
    "df.corr()"
   ]
  },
  {
   "cell_type": "markdown",
   "id": "99a41377-a4ec-40e3-9c0b-7dfa58debd92",
   "metadata": {},
   "source": [
    "The model is:\n",
    "\n",
    "$$ y_i = \\beta_0 + \\beta_1 x_{1i} + \\beta_2 x_{2i} + \\beta_3 x_{3_i}\n",
    "$$"
   ]
  },
  {
   "cell_type": "code",
   "execution_count": 18,
   "id": "adf1d6cb-4c4f-4f32-9169-0516503e6be0",
   "metadata": {},
   "outputs": [
    {
     "data": {
      "image/png": "[encoded data removed]",
      "text/plain": [
       "<Figure size 640x480 with 1 Axes>"
      ]
     },
     "metadata": {},
     "output_type": "display_data"
    }
   ],
   "source": [
    "import matplotlib.pyplot as plt\n",
    "import numpy as np\n",
    "\n",
    "\n",
    "\n",
    "x1 = df['X2 house age']\n",
    "x2 = df['X3 distance to the nearest MRT station']\n",
    "x3 = df['X4 number of convenience stores']\n",
    "y = df['Y house price of unit area']\n",
    "dim1 = np.linspace(min(x1), max(x1),100)\n",
    "dim2 = np.linspace(min(x2), max(x2),100)\n",
    "X,Y = np.meshgrid(dim1,dim2)\n",
    "z = -0.01*X-0.01*Y+40\n",
    "fig = plt.figure()\n",
    "ax = fig.add_subplot(projection='3d')\n",
    "ax.plot_surface(X, Y,z)\n",
    "ax.scatter(x1,x2,y, color = \"red\")\n",
    "ax.view_init(20, -40)\n"
   ]
  },
  {
   "cell_type": "code",
   "execution_count": 60,
   "id": "4802a3c0-cd44-4489-9edf-d0bf82a082a0",
   "metadata": {},
   "outputs": [],
   "source": [
    "x1_train = np.array(x1)[:len(x1)//2]\n",
    "x2_train = np.array(x2)[:len(x2)//2]\n",
    "x3_train = np.array(x3)[:len(x3)//2]\n",
    "x1_test = np.array(x1)[len(x1)//2:len(x1)//2 +3]\n",
    "x2_test = np.array(x2)[len(x2)//2:len(x1)//2 +3]\n",
    "x3_test = np.array(x3)[len(x3)//2:len(x1)//2 +3]\n",
    "X_train = np.column_stack((np.ones(len(x1_train)), x1_train, x2_train, x3_train))\n",
    "X_test = np.column_stack((np.ones(len(x1_test)), x1_test, x2_test, x3_test))\n",
    "y_train = y[:len(y)//2]"
   ]
  },
  {
   "cell_type": "code",
   "execution_count": null,
   "id": "19b3c939-510f-40f5-9ef4-6fecb3b4f06e",
   "metadata": {},
   "outputs": [],
   "source": []
  },
  {
   "cell_type": "markdown",
   "id": "2ccd90bd-2948-4783-947d-c4752bf30e7f",
   "metadata": {},
   "source": [
    "$$\n",
    "\\begin{bmatrix} \n",
    "y_1 \\\\ \n",
    "y_2 \\\\ \n",
    "\\vdots \\\\ \n",
    "y_n \n",
    "\\end{bmatrix} \n",
    "=\n",
    "\\begin{bmatrix} \n",
    "x_{11} & x_{12} & \\dots & x_{1p} \\\\ \n",
    "x_{21} & x_{22} & \\dots & x_{2p} \\\\ \n",
    "\\vdots & \\vdots & \\ddots & \\vdots \\\\ \n",
    "x_{n1} & x_{n2} & \\dots & x_{np} \n",
    "\\end{bmatrix} \n",
    "\\begin{bmatrix} \n",
    "\\beta_0 \\\\ \n",
    "\\beta_1 \\\\ \n",
    "\\vdots \\\\ \n",
    "\\beta_p \n",
    "\\end{bmatrix} \n",
    "+\n",
    "\\begin{bmatrix} \n",
    "\\epsilon_1 \\\\ \n",
    "\\epsilon_2 \\\\ \n",
    "\\vdots \\\\ \n",
    "\\epsilon_n \n",
    "\\end{bmatrix} \n",
    "$$"
   ]
  },
  {
   "cell_type": "markdown",
   "id": "3530a2d3-3f2c-48bb-aa24-2dada4b23bd5",
   "metadata": {},
   "source": [
    "For simplicity let us takes two variables:\n",
    "\n"
   ]
  },
  {
   "cell_type": "code",
   "execution_count": 63,
   "id": "8548fddc-c136-411e-849a-ce0d7261a71d",
   "metadata": {},
   "outputs": [
    {
     "name": "stdout",
     "output_type": "stream",
     "text": [
      "Intercept (β0): 44.280163620199914\n",
      "Coefficient for x1 (β1): -0.306315019221862\n",
      "Coefficient for x2 (β2): -0.005285029255371228\n"
     ]
    },
    {
     "data": {
      "image/png": "[encoded data removed]",
      "text/plain": [
       "<Figure size 640x480 with 1 Axes>"
      ]
     },
     "metadata": {},
     "output_type": "display_data"
    }
   ],
   "source": [
    "XtX = X_train.T.dot(X_train)              # X^T * X\n",
    "XtX_inv = np.linalg.inv(XtX)  # (X^T * X)^(-1)\n",
    "XtY = X_train.T.dot(y_train)              # X^T * y\n",
    "beta = XtX_inv.dot(XtY)       # (X^T * X)^(-1) * X^T * y'\n",
    "\n",
    "# Extracting coefficients\n",
    "intercept = beta[0]\n",
    "coef_x1 = beta[1]\n",
    "coef_x2 = beta[2]\n",
    "\n",
    "print(\"Intercept (β0):\", intercept)\n",
    "print(\"Coefficient for x1 (β1):\", coef_x1)\n",
    "print(\"Coefficient for x2 (β2):\", coef_x2)\n",
    "\n",
    "# Step 3: Predicting y values\n",
    "y_pred = X_test.dot(beta)\n",
    "y_test = y[len(y)//2:len(y)//2 + 3 ]\n",
    "# Optional: Plot results (y vs. y_pred)\n",
    "import matplotlib.pyplot as plt\n",
    "plt.scatter(y_test, y_pred)\n",
    "plt.plot([y_test.min(), y_test.max()], [y_test.min(), y_test.max()], color='red', linestyle='--')\n",
    "plt.xlabel(\"True Values\")\n",
    "plt.ylabel(\"Predictions\")\n",
    "plt.title(\"True vs. Predicted Values\")\n",
    "plt.show()"
   ]
  },
  {
   "cell_type": "code",
   "execution_count": 65,
   "id": "b8c250d7-5a48-4b53-ab38-4fe002025771",
   "metadata": {},
   "outputs": [
    {
     "data": {
      "text/plain": [
       "3"
      ]
     },
     "execution_count": 65,
     "metadata": {},
     "output_type": "execute_result"
    }
   ],
   "source": [
    "len(y_test)"
   ]
  },
  {
   "cell_type": "code",
   "execution_count": 67,
   "id": "1bcd51d5-11d2-448f-9191-678a44173fc7",
   "metadata": {},
   "outputs": [
    {
     "name": "stdout",
     "output_type": "stream",
     "text": [
      "Mean Absolute Error (MAE): 4.057404312476932\n",
      "Mean Squared Error (MSE): 27.199349873515533\n",
      "Root Mean Squared Error (RMSE): 5.215299595758189\n",
      "R-squared (R2): 0.49502434197557865\n"
     ]
    }
   ],
   "source": [
    "mae = np.mean(np.abs(y_test - y_pred))\n",
    "print(\"Mean Absolute Error (MAE):\", mae)\n",
    "\n",
    "# Mean Squared Error (MSE)\n",
    "mse = np.mean((y_test - y_pred) ** 2)\n",
    "print(\"Mean Squared Error (MSE):\", mse)\n",
    "\n",
    "# Root Mean Squared Error (RMSE)\n",
    "rmse = np.sqrt(mse)\n",
    "print(\"Root Mean Squared Error (RMSE):\", rmse)\n",
    "\n",
    "# R-squared (R2)\n",
    "ss_total = np.sum((y_test - np.mean(y)) ** 2)\n",
    "ss_residual = np.sum((y_test - y_pred) ** 2)\n",
    "r2 = 1 - (ss_residual / ss_total)\n",
    "print(\"R-squared (R2):\", r2)"
   ]
  },
  {
   "cell_type": "code",
   "execution_count": 39,
   "id": "7094874b-c6b8-45ad-9b89-b98b68cfdc1f",
   "metadata": {},
   "outputs": [
    {
     "ename": "ValueError",
     "evalue": "operands could not be broadcast together with shapes (5,) (10,) ",
     "output_type": "error",
     "traceback": [
      "\u001b[0;31m---------------------------------------------------------------------------\u001b[0m",
      "\u001b[0;31mValueError\u001b[0m                                Traceback (most recent call last)",
      "Cell \u001b[0;32mIn[39], line 2\u001b[0m\n\u001b[1;32m      1\u001b[0m ss_total \u001b[38;5;241m=\u001b[39m np\u001b[38;5;241m.\u001b[39msum((y_test \u001b[38;5;241m-\u001b[39m np\u001b[38;5;241m.\u001b[39mmean(y)) \u001b[38;5;241m*\u001b[39m\u001b[38;5;241m*\u001b[39m \u001b[38;5;241m2\u001b[39m)\n\u001b[0;32m----> 2\u001b[0m ss_residual \u001b[38;5;241m=\u001b[39m np\u001b[38;5;241m.\u001b[39msum((y_test \u001b[38;5;241m-\u001b[39m y_pred) \u001b[38;5;241m*\u001b[39m\u001b[38;5;241m*\u001b[39m \u001b[38;5;241m2\u001b[39m)\n\u001b[1;32m      3\u001b[0m r_squared \u001b[38;5;241m=\u001b[39m \u001b[38;5;241m1\u001b[39m \u001b[38;5;241m-\u001b[39m (ss_residual \u001b[38;5;241m/\u001b[39m ss_total)\n\u001b[1;32m      5\u001b[0m \u001b[38;5;66;03m# Number of observations and predictors\u001b[39;00m\n",
      "File \u001b[0;32m/opt/anaconda3/lib/python3.12/site-packages/pandas/core/ops/common.py:76\u001b[0m, in \u001b[0;36m_unpack_zerodim_and_defer.<locals>.new_method\u001b[0;34m(self, other)\u001b[0m\n\u001b[1;32m     72\u001b[0m             \u001b[38;5;28;01mreturn\u001b[39;00m \u001b[38;5;28mNotImplemented\u001b[39m\n\u001b[1;32m     74\u001b[0m other \u001b[38;5;241m=\u001b[39m item_from_zerodim(other)\n\u001b[0;32m---> 76\u001b[0m \u001b[38;5;28;01mreturn\u001b[39;00m method(\u001b[38;5;28mself\u001b[39m, other)\n",
      "File \u001b[0;32m/opt/anaconda3/lib/python3.12/site-packages/pandas/core/arraylike.py:194\u001b[0m, in \u001b[0;36mOpsMixin.__sub__\u001b[0;34m(self, other)\u001b[0m\n\u001b[1;32m    192\u001b[0m \u001b[38;5;129m@unpack_zerodim_and_defer\u001b[39m(\u001b[38;5;124m\"\u001b[39m\u001b[38;5;124m__sub__\u001b[39m\u001b[38;5;124m\"\u001b[39m)\n\u001b[1;32m    193\u001b[0m \u001b[38;5;28;01mdef\u001b[39;00m \u001b[38;5;21m__sub__\u001b[39m(\u001b[38;5;28mself\u001b[39m, other):\n\u001b[0;32m--> 194\u001b[0m     \u001b[38;5;28;01mreturn\u001b[39;00m \u001b[38;5;28mself\u001b[39m\u001b[38;5;241m.\u001b[39m_arith_method(other, operator\u001b[38;5;241m.\u001b[39msub)\n",
      "File \u001b[0;32m/opt/anaconda3/lib/python3.12/site-packages/pandas/core/series.py:6135\u001b[0m, in \u001b[0;36mSeries._arith_method\u001b[0;34m(self, other, op)\u001b[0m\n\u001b[1;32m   6133\u001b[0m \u001b[38;5;28;01mdef\u001b[39;00m \u001b[38;5;21m_arith_method\u001b[39m(\u001b[38;5;28mself\u001b[39m, other, op):\n\u001b[1;32m   6134\u001b[0m     \u001b[38;5;28mself\u001b[39m, other \u001b[38;5;241m=\u001b[39m \u001b[38;5;28mself\u001b[39m\u001b[38;5;241m.\u001b[39m_align_for_op(other)\n\u001b[0;32m-> 6135\u001b[0m     \u001b[38;5;28;01mreturn\u001b[39;00m base\u001b[38;5;241m.\u001b[39mIndexOpsMixin\u001b[38;5;241m.\u001b[39m_arith_method(\u001b[38;5;28mself\u001b[39m, other, op)\n",
      "File \u001b[0;32m/opt/anaconda3/lib/python3.12/site-packages/pandas/core/base.py:1382\u001b[0m, in \u001b[0;36mIndexOpsMixin._arith_method\u001b[0;34m(self, other, op)\u001b[0m\n\u001b[1;32m   1379\u001b[0m     rvalues \u001b[38;5;241m=\u001b[39m np\u001b[38;5;241m.\u001b[39marange(rvalues\u001b[38;5;241m.\u001b[39mstart, rvalues\u001b[38;5;241m.\u001b[39mstop, rvalues\u001b[38;5;241m.\u001b[39mstep)\n\u001b[1;32m   1381\u001b[0m \u001b[38;5;28;01mwith\u001b[39;00m np\u001b[38;5;241m.\u001b[39merrstate(\u001b[38;5;28mall\u001b[39m\u001b[38;5;241m=\u001b[39m\u001b[38;5;124m\"\u001b[39m\u001b[38;5;124mignore\u001b[39m\u001b[38;5;124m\"\u001b[39m):\n\u001b[0;32m-> 1382\u001b[0m     result \u001b[38;5;241m=\u001b[39m ops\u001b[38;5;241m.\u001b[39marithmetic_op(lvalues, rvalues, op)\n\u001b[1;32m   1384\u001b[0m \u001b[38;5;28;01mreturn\u001b[39;00m \u001b[38;5;28mself\u001b[39m\u001b[38;5;241m.\u001b[39m_construct_result(result, name\u001b[38;5;241m=\u001b[39mres_name)\n",
      "File \u001b[0;32m/opt/anaconda3/lib/python3.12/site-packages/pandas/core/ops/array_ops.py:283\u001b[0m, in \u001b[0;36marithmetic_op\u001b[0;34m(left, right, op)\u001b[0m\n\u001b[1;32m    279\u001b[0m     _bool_arith_check(op, left, right)  \u001b[38;5;66;03m# type: ignore[arg-type]\u001b[39;00m\n\u001b[1;32m    281\u001b[0m     \u001b[38;5;66;03m# error: Argument 1 to \"_na_arithmetic_op\" has incompatible type\u001b[39;00m\n\u001b[1;32m    282\u001b[0m     \u001b[38;5;66;03m# \"Union[ExtensionArray, ndarray[Any, Any]]\"; expected \"ndarray[Any, Any]\"\u001b[39;00m\n\u001b[0;32m--> 283\u001b[0m     res_values \u001b[38;5;241m=\u001b[39m _na_arithmetic_op(left, right, op)  \u001b[38;5;66;03m# type: ignore[arg-type]\u001b[39;00m\n\u001b[1;32m    285\u001b[0m \u001b[38;5;28;01mreturn\u001b[39;00m res_values\n",
      "File \u001b[0;32m/opt/anaconda3/lib/python3.12/site-packages/pandas/core/ops/array_ops.py:218\u001b[0m, in \u001b[0;36m_na_arithmetic_op\u001b[0;34m(left, right, op, is_cmp)\u001b[0m\n\u001b[1;32m    215\u001b[0m     func \u001b[38;5;241m=\u001b[39m partial(expressions\u001b[38;5;241m.\u001b[39mevaluate, op)\n\u001b[1;32m    217\u001b[0m \u001b[38;5;28;01mtry\u001b[39;00m:\n\u001b[0;32m--> 218\u001b[0m     result \u001b[38;5;241m=\u001b[39m func(left, right)\n\u001b[1;32m    219\u001b[0m \u001b[38;5;28;01mexcept\u001b[39;00m \u001b[38;5;167;01mTypeError\u001b[39;00m:\n\u001b[1;32m    220\u001b[0m     \u001b[38;5;28;01mif\u001b[39;00m \u001b[38;5;129;01mnot\u001b[39;00m is_cmp \u001b[38;5;129;01mand\u001b[39;00m (\n\u001b[1;32m    221\u001b[0m         left\u001b[38;5;241m.\u001b[39mdtype \u001b[38;5;241m==\u001b[39m \u001b[38;5;28mobject\u001b[39m \u001b[38;5;129;01mor\u001b[39;00m \u001b[38;5;28mgetattr\u001b[39m(right, \u001b[38;5;124m\"\u001b[39m\u001b[38;5;124mdtype\u001b[39m\u001b[38;5;124m\"\u001b[39m, \u001b[38;5;28;01mNone\u001b[39;00m) \u001b[38;5;241m==\u001b[39m \u001b[38;5;28mobject\u001b[39m\n\u001b[1;32m    222\u001b[0m     ):\n\u001b[0;32m   (...)\u001b[0m\n\u001b[1;32m    225\u001b[0m         \u001b[38;5;66;03m# Don't do this for comparisons, as that will handle complex numbers\u001b[39;00m\n\u001b[1;32m    226\u001b[0m         \u001b[38;5;66;03m#  incorrectly, see GH#32047\u001b[39;00m\n",
      "File \u001b[0;32m/opt/anaconda3/lib/python3.12/site-packages/pandas/core/computation/expressions.py:242\u001b[0m, in \u001b[0;36mevaluate\u001b[0;34m(op, a, b, use_numexpr)\u001b[0m\n\u001b[1;32m    239\u001b[0m \u001b[38;5;28;01mif\u001b[39;00m op_str \u001b[38;5;129;01mis\u001b[39;00m \u001b[38;5;129;01mnot\u001b[39;00m \u001b[38;5;28;01mNone\u001b[39;00m:\n\u001b[1;32m    240\u001b[0m     \u001b[38;5;28;01mif\u001b[39;00m use_numexpr:\n\u001b[1;32m    241\u001b[0m         \u001b[38;5;66;03m# error: \"None\" not callable\u001b[39;00m\n\u001b[0;32m--> 242\u001b[0m         \u001b[38;5;28;01mreturn\u001b[39;00m _evaluate(op, op_str, a, b)  \u001b[38;5;66;03m# type: ignore[misc]\u001b[39;00m\n\u001b[1;32m    243\u001b[0m \u001b[38;5;28;01mreturn\u001b[39;00m _evaluate_standard(op, op_str, a, b)\n",
      "File \u001b[0;32m/opt/anaconda3/lib/python3.12/site-packages/pandas/core/computation/expressions.py:131\u001b[0m, in \u001b[0;36m_evaluate_numexpr\u001b[0;34m(op, op_str, a, b)\u001b[0m\n\u001b[1;32m    128\u001b[0m     _store_test_result(result \u001b[38;5;129;01mis\u001b[39;00m \u001b[38;5;129;01mnot\u001b[39;00m \u001b[38;5;28;01mNone\u001b[39;00m)\n\u001b[1;32m    130\u001b[0m \u001b[38;5;28;01mif\u001b[39;00m result \u001b[38;5;129;01mis\u001b[39;00m \u001b[38;5;28;01mNone\u001b[39;00m:\n\u001b[0;32m--> 131\u001b[0m     result \u001b[38;5;241m=\u001b[39m _evaluate_standard(op, op_str, a, b)\n\u001b[1;32m    133\u001b[0m \u001b[38;5;28;01mreturn\u001b[39;00m result\n",
      "File \u001b[0;32m/opt/anaconda3/lib/python3.12/site-packages/pandas/core/computation/expressions.py:73\u001b[0m, in \u001b[0;36m_evaluate_standard\u001b[0;34m(op, op_str, a, b)\u001b[0m\n\u001b[1;32m     71\u001b[0m \u001b[38;5;28;01mif\u001b[39;00m _TEST_MODE:\n\u001b[1;32m     72\u001b[0m     _store_test_result(\u001b[38;5;28;01mFalse\u001b[39;00m)\n\u001b[0;32m---> 73\u001b[0m \u001b[38;5;28;01mreturn\u001b[39;00m op(a, b)\n",
      "\u001b[0;31mValueError\u001b[0m: operands could not be broadcast together with shapes (5,) (10,) "
     ]
    }
   ],
   "source": [
    "ss_total = np.sum((y_test - np.mean(y)) ** 2)\n",
    "ss_residual = np.sum((y_test - y_pred) ** 2)\n",
    "r_squared = 1 - (ss_residual / ss_total)\n",
    "\n",
    "# Number of observations and predictors\n",
    "n = len(y)\n",
    "p = 2  # Number of predictors (independent variables: x1 and x2)\n",
    "\n",
    "# Calculate Adjusted R-squared\n",
    "adjusted_r_squared = 1 - ((1 - r_squared) * (n - 1) / (n - p - 1))\n",
    "print(\"R-squared:\", r_squared)\n",
    "print(\"Adjusted R-squared:\", adjusted_r_squared)\n"
   ]
  },
  {
   "cell_type": "code",
   "execution_count": null,
   "id": "b7f3bfe8-1626-4b5b-a09b-1e576c8e00e5",
   "metadata": {},
   "outputs": [],
   "source": []
  },
  {
   "cell_type": "code",
   "execution_count": null,
   "id": "42b0813d-34de-4e4a-8649-941cc4a98c8a",
   "metadata": {},
   "outputs": [],
   "source": []
  }
 ],
 "metadata": {
  "kernelspec": {
   "display_name": "Python 3 (ipykernel)",
   "language": "python",
   "name": "python3"
  },
  "language_info": {
   "codemirror_mode": {
    "name": "ipython",
    "version": 3
   },
   "file_extension": ".py",
   "mimetype": "text/x-python",
   "name": "python",
   "nbconvert_exporter": "python",
   "pygments_lexer": "ipython3",
   "version": "3.12.7"
  }
 },
 "nbformat": 4,
 "nbformat_minor": 5
}
